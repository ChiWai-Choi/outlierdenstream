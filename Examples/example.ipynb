{
 "cells": [
  {
   "cell_type": "markdown",
   "metadata": {},
   "source": [
    "# Anomaly Detection - DenStream algorithm\n",
    "Example: Code and Results"
   ]
  },
  {
   "cell_type": "markdown",
   "metadata": {},
   "source": [
    "#### Step 1: Import libraries \n",
    "The algorithm uses:\n",
    "- Pandas \n",
    "- Numpy\n",
    "- Class Sample and DenStream\n",
    "- Statistics and groundTruth useful to compute the Key Performance Indicators (if available)"
   ]
  },
  {
   "cell_type": "code",
   "execution_count": 2,
   "metadata": {},
   "outputs": [],
   "source": [
    "#!/usr/bin/env python2\n",
    "# -*- coding: utf-8 -*-\n",
    "\"\"\"\n",
    "Created on Mon Nov 13 17:19:09 2017\n",
    "\n",
    "@author: anr.putina\n",
    "\"\"\"\n",
    "\n",
    "import sys\n",
    "sys.path.append('./../')\n",
    "\n",
    "import time\n",
    "\n",
    "import pandas as pd\n",
    "\n",
    "from sample import Sample\n",
    "from DenStream import DenStream\n",
    "from statistics import Statistics\n",
    "\n",
    "from groundTruth import groundTruth\n",
    "\n",
    "def normalize_matrix(df):\n",
    "    return (df - df.mean())/df.std()\n",
    "\n",
    "%matplotlib inline\n"
   ]
  },
  {
   "cell_type": "markdown",
   "metadata": {},
   "source": [
    "#### Step 2: Import Dataset \n",
    "The dataset is composed by the telemetry coming from each node thus it is possible to read and process them in sequence (eg: process telemetry coming from Node1 and save results, process telemetry coming from Node2 and take results etc). In the end the results will be merged and the statistics will be computed.\n",
    "\n",
    "Let's consider first of all a single node (Leaf1) and load the dataset in pandas."
   ]
  },
  {
   "cell_type": "code",
   "execution_count": 3,
   "metadata": {
    "collapsed": true
   },
   "outputs": [],
   "source": [
    "node = 'leaf1'\n",
    "df = pd.read_csv('Data/'+node+'clear_bgp.csv').dropna()\\\n",
    "    .drop('Unnamed: 0', axis=1)\n",
    "    \n",
    "deleteFeatureList = []\n",
    "for columnName in df.columns:\n",
    "    if 'rate' in columnName:            \n",
    "        deleteFeatureList.append(columnName)\n",
    "    if 'load' in columnName:            \n",
    "        deleteFeatureList.append(columnName)\n",
    "\n",
    "            \n",
    "df = df.drop(deleteFeatureList, axis=1)"
   ]
  },
  {
   "cell_type": "markdown",
   "metadata": {},
   "source": [
    "The DataFrame df contains now all the telemetry extracted from Leaf1 during the experiment. We can now drop the 'time' column from the dataset and normalize it."
   ]
  },
  {
   "cell_type": "code",
   "execution_count": 4,
   "metadata": {},
   "outputs": [],
   "source": [
    "times = df['time']\n",
    "df = df.drop(['time'], axis=1)\n",
    "dfNormalized = normalize_matrix(df).dropna(axis=1)"
   ]
  },
  {
   "cell_type": "markdown",
   "metadata": {},
   "source": [
    "By contrusction the first 5 minutes of the experiment are event-free thus we can use the samples to create the first cluster and to compute on it the dynamic parameters (epsilon). Let's divide thus the dataset in two subdatasets called buffer and test. We take the first 40 samples of the experiment as bufferDF."
   ]
  },
  {
   "cell_type": "code",
   "execution_count": 5,
   "metadata": {
    "collapsed": true
   },
   "outputs": [],
   "source": [
    "sampleSkip = 40\n",
    "bufferDf = dfNormalized[0:sampleSkip]\n",
    "testDf = dfNormalized[sampleSkip:]"
   ]
  },
  {
   "cell_type": "markdown",
   "metadata": {},
   "source": [
    "#### Step 3: Run the algorithm\n",
    "We can now initialize the denStream engine and set the parameters. In this case:\n",
    "- The fading factor lambda is set to 0.03\n",
    "- Epsilon is set to 'auto' thus it will be computed dynamically starting from the buffer\n",
    "- The potential factor beta is set to 0.03\n",
    "- Mu is computed automatically from the fading factor. "
   ]
  },
  {
   "cell_type": "code",
   "execution_count": 7,
   "metadata": {},
   "outputs": [],
   "source": [
    "den = DenStream(lamb=0.03, epsilon='auto', beta=0.03, mu='auto', startingBuffer=bufferDf, tp=36)\n",
    "den.runInitialization()"
   ]
  },
  {
   "cell_type": "markdown",
   "metadata": {},
   "source": [
    "We can now extract one by one the rows from the testDF and process them. The algorithm thus will take a decision for each snapshot and will label it with 'Normal' or 'Abnormal' depending if it was able to merge the samples to the core-micro-clusters or not. The algorithm returns True or False (Outlier or not)."
   ]
  },
  {
   "cell_type": "code",
   "execution_count": 8,
   "metadata": {
    "collapsed": true
   },
   "outputs": [],
   "source": [
    "outputCurrentNode = []\n",
    "for sampleNumber in range(len(testDf)):\n",
    "    sample = testDf.iloc[sampleNumber]\n",
    "    result = den.runOnNewSample(Sample(sample.values, times.iloc[sampleNumber]))\n",
    "    outputCurrentNode.append(result)"
   ]
  },
  {
   "cell_type": "markdown",
   "metadata": {},
   "source": [
    "It is possible now to compare the results with the groundtruth and understand how the algorithm performs. For simplicity we add a column to the initial DataFrame. Each event is defined by a StartingTime and an EndingTime: we read them from the groundtruth.\n",
    "In the end the Statistics module computes the number of detections and false alarms with respect to the order K."
   ]
  },
  {
   "cell_type": "code",
   "execution_count": 9,
   "metadata": {},
   "outputs": [
    {
     "data": {
      "text/plain": [
       "{'detections': {1: {'delays': [{'delay': 4293.0,\n",
       "     'position': 0,\n",
       "     'type': 'single'},\n",
       "    {'delay': 10922.0, 'position': 2, 'type': 'single'},\n",
       "    {'delay': 3164.0, 'position': 1, 'type': 'single'},\n",
       "    {'delay': 8227.0, 'position': 2, 'type': 'single'},\n",
       "    {'delay': 2099.0, 'position': 2, 'type': 'single'},\n",
       "    {'delay': 1110.0, 'position': 1, 'type': 'single'},\n",
       "    {'delay': 896.0, 'position': 1, 'type': 'single'},\n",
       "    {'delay': 4304.0, 'position': 1, 'type': 'single'}],\n",
       "   'detection': 8,\n",
       "   'events': 8},\n",
       "  2: {'delays': [{'delay': 8583.0, 'position': 0, 'type': 'single'},\n",
       "    {'delay': 15372.0, 'position': 2, 'type': 'single'},\n",
       "    {'delay': 7784.0, 'position': 1, 'type': 'single'},\n",
       "    {'delay': 12827.0, 'position': 2, 'type': 'single'},\n",
       "    {'delay': 6589.0, 'position': 2, 'type': 'single'},\n",
       "    {'delay': 5430.0, 'position': 1, 'type': 'single'},\n",
       "    {'delay': 5366.0, 'position': 1, 'type': 'single'},\n",
       "    {'delay': 8814.0, 'position': 1, 'type': 'single'}],\n",
       "   'detection': 8,\n",
       "   'events': 8},\n",
       "  3: {'delays': [{'delay': 42973.0, 'position': 0, 'type': 'single'},\n",
       "    {'delay': 43484.0, 'position': 1, 'type': 'single'},\n",
       "    {'delay': 17137.0, 'position': 2, 'type': 'single'},\n",
       "    {'delay': 11219.0, 'position': 2, 'type': 'single'},\n",
       "    {'delay': 9810.0, 'position': 1, 'type': 'single'},\n",
       "    {'delay': 9826.0, 'position': 1, 'type': 'single'},\n",
       "    {'delay': 40064.0, 'position': 1, 'type': 'single'}],\n",
       "   'detection': 7,\n",
       "   'events': 8},\n",
       "  4: {'delays': [{'delay': 47243.0, 'position': 0, 'type': 'single'},\n",
       "    {'delay': 48054.0, 'position': 1, 'type': 'single'},\n",
       "    {'delay': 39447.0, 'position': 2, 'type': 'single'},\n",
       "    {'delay': 37829.0, 'position': 2, 'type': 'single'},\n",
       "    {'delay': 54550.0, 'position': 1, 'type': 'single'},\n",
       "    {'delay': 50136.0, 'position': 1, 'type': 'single'},\n",
       "    {'delay': 44544.0, 'position': 1, 'type': 'single'}],\n",
       "   'detection': 7,\n",
       "   'events': 8},\n",
       "  5: {'delays': [{'delay': 51513.0, 'position': 0, 'type': 'single'},\n",
       "    {'delay': 44077.0, 'position': 2, 'type': 'single'},\n",
       "    {'delay': 157480.0, 'position': 1, 'type': 'single'},\n",
       "    {'delay': 112756.0, 'position': 1, 'type': 'single'},\n",
       "    {'delay': 49174.0, 'position': 1, 'type': 'single'}],\n",
       "   'detection': 5,\n",
       "   'events': 8}},\n",
       " 'falsePositives': {1: 2, 2: 2, 3: 0, 4: 0, 5: 0}}"
      ]
     },
     "execution_count": 9,
     "metadata": {},
     "output_type": "execute_result"
    }
   ],
   "source": [
    "df['result'] = [False] * sampleSkip + outputCurrentNode\n",
    "\n",
    "truth = groundTruth()\n",
    "truth.simulationBGP_CLEAR_Second_DATASET()\n",
    "truth.simulationBGP_CLEAR2_CLEAR()\n",
    "\n",
    "statistics = Statistics(node, truth)\n",
    "statistics.getNodeResult(df, times, kMAX=5)"
   ]
  },
  {
   "cell_type": "markdown",
   "metadata": {},
   "source": [
    "We can see that for all the orders K the algorithm was able to detect all the 8 events. On the other hand with DOK=1 and DOK=2 the algorithm produces also 2 false positives. For DOK >= 3 the algorithm produces exactly 0 false positives.\n",
    "\n",
    "With these results we can computer Precision, Recall and False Positive Rate"
   ]
  },
  {
   "cell_type": "code",
   "execution_count": 11,
   "metadata": {},
   "outputs": [
    {
     "data": {
      "text/plain": [
       "{'FalseRate': [0.3333333333333333, 0.3333333333333333, 0.0, 0.0, 0.0],\n",
       " 'Precision': [0.8, 0.8, 1.0, 1.0, 1.0],\n",
       " 'Recall': [1.0, 1.0, 0.875, 0.875, 0.625],\n",
       " 'errFalseRate': [nan, nan, nan, nan, nan],\n",
       " 'errPrecision': [nan, nan, nan, nan, nan],\n",
       " 'errRecall': [nan, nan, nan, nan, nan]}"
      ]
     },
     "execution_count": 11,
     "metadata": {},
     "output_type": "execute_result"
    },
    {
     "data": {
      "image/png": "[encoded data removed]",
      "text/plain": [
       "<matplotlib.figure.Figure at 0x107b15090>"
      ]
     },
     "metadata": {},
     "output_type": "display_data"
    }
   ],
   "source": [
    "results = {}\n",
    "results[node] = statistics.getNodeResult(df, times, kMAX=5)\n",
    "statistics.getPrecisionRecallFalseRate(results, kMAX=5, plot=True)"
   ]
  },
  {
   "cell_type": "markdown",
   "metadata": {},
   "source": [
    "As you can see, in this specific case, with these parameters, the algorithm produces exactly 0 false positives for DOK=5. On the other hand there is the need to wait 5 consecutive samples before raising (increasing delay)."
   ]
  },
  {
   "cell_type": "markdown",
   "metadata": {},
   "source": [
    "#### Step 4: Re-Run on all the nodes\n",
    "We can run the algorithm again considering all the nodes and see how the algorithm performs globally."
   ]
  },
  {
   "cell_type": "code",
   "execution_count": 13,
   "metadata": {},
   "outputs": [
    {
     "data": {
      "text/plain": [
       "(array([[  1.07578125,   0.81569318,   6.07477778],\n",
       "        [  2.15015625,   1.98103409,   7.33811111],\n",
       "        [  6.72359375,   6.79685366,   7.07797115],\n",
       "        [  8.34359375,  10.73130469,   9.32785937],\n",
       "        [  9.42046875,  13.67443   ,  12.59073077]]),\n",
       " {'hop0': array([ 0.00604356,  0.00596823,  2.23871425,  2.53619915,  2.53608011]),\n",
       "  'hop1': array([ 0.12726607,  0.15227952,  1.37028105,  1.06407524,  2.92873103]),\n",
       "  'hop2': array([ 3.74481798,  3.73727675,  1.90163689,  2.8956138 ,  5.20373828])})"
      ]
     },
     "execution_count": 13,
     "metadata": {},
     "output_type": "execute_result"
    },
    {
     "data": {
      "image/png": "[encoded data removed]",
      "text/plain": [
       "<matplotlib.figure.Figure at 0x105d7bf50>"
      ]
     },
     "metadata": {},
     "output_type": "display_data"
    },
    {
     "data": {
      "image/png": "[encoded data removed]",
      "text/plain": [
       "<matplotlib.figure.Figure at 0x105d7bfd0>"
      ]
     },
     "metadata": {},
     "output_type": "display_data"
    }
   ],
   "source": [
    "nodes = ['leaf1', 'leaf2', 'leaf3', 'leaf5', 'leaf6', 'leaf7', 'leaf8',\\\n",
    "         'spine1', 'spine2', 'spine3', 'spine4']\n",
    "\n",
    "results = {}\n",
    "\n",
    "for node in nodes:\n",
    "\n",
    "    df = pd.read_csv('Data/'+node+'clear_bgp.csv').dropna()\\\n",
    "        .drop('Unnamed: 0', axis=1)\n",
    "\n",
    "    deleteFeatureList = []\n",
    "    \n",
    "    for columnName in df.columns:\n",
    "        if 'rate' in columnName:            \n",
    "            deleteFeatureList.append(columnName)\n",
    "        if 'load' in columnName:            \n",
    "            deleteFeatureList.append(columnName)\n",
    "\n",
    "    df = df.drop(deleteFeatureList, axis=1)\n",
    "\n",
    "    times = df['time']\n",
    "    df = df.drop(['time'], axis=1)\n",
    "\n",
    "    dfNormalized = normalize_matrix(df).dropna(axis=1)\n",
    "\n",
    "    sampleSkip = 40\n",
    "    bufferDf = dfNormalized[0:sampleSkip]\n",
    "    testDf = dfNormalized[sampleSkip:]\n",
    "\n",
    "    den = DenStream(lamb=0.03, epsilon='auto', beta=0.03, mu='auto', startingBuffer=bufferDf, tp=36)\n",
    "    den.runInitialization()\n",
    "\n",
    "    outputCurrentNode = []\n",
    "    for sampleNumber in range(len(testDf)):\n",
    "        sample = testDf.iloc[sampleNumber]\n",
    "        result = den.runOnNewSample(Sample(sample.values, times.iloc[sampleNumber]))\n",
    "        outputCurrentNode.append(result)\n",
    "    ### END SIMULATION ###\n",
    "\n",
    "    df['result'] = [False] * sampleSkip + outputCurrentNode\n",
    "\n",
    "    truth = groundTruth()\n",
    "    truth.simulationBGP_CLEAR_Second_DATASET()\n",
    "    truth.simulationBGP_CLEAR2_CLEAR()\n",
    "\n",
    "    statistics = Statistics(node, truth)\n",
    "    results[node] = statistics.getNodeResult(df, times, kMAX=5)\n",
    "\n",
    "statistics.getPrecisionRecallFalseRate(results, kMAX=5, plot=True)\n",
    "statistics.getDelay(results, kMAX=5, plot=True, samplingRate=4)"
   ]
  },
  {
   "cell_type": "markdown",
   "metadata": {},
   "source": [
    "#### Results\n",
    "The Dataset in use it is available at https://github.com/cisco-ie/telemetry"
   ]
  }
 ],
 "metadata": {
  "kernelspec": {
   "display_name": "Python 2",
   "language": "python",
   "name": "python2"
  },
  "language_info": {
   "codemirror_mode": {
    "name": "ipython",
    "version": 2
   },
   "file_extension": ".py",
   "mimetype": "text/x-python",
   "name": "python",
   "nbconvert_exporter": "python",
   "pygments_lexer": "ipython2",
   "version": "2.7.14"
  }
 },
 "nbformat": 4,
 "nbformat_minor": 2
}
